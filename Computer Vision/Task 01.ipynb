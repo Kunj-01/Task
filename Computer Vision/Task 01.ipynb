{
 "cells": [
  {
   "cell_type": "code",
   "execution_count": 199,
   "id": "0047030c",
   "metadata": {},
   "outputs": [],
   "source": [
    "import cv2"
   ]
  },
  {
   "cell_type": "markdown",
   "id": "e4cb9831",
   "metadata": {},
   "source": [
    "# Reading image in greyscale"
   ]
  },
  {
   "cell_type": "code",
   "execution_count": 200,
   "id": "d0e3474f",
   "metadata": {},
   "outputs": [],
   "source": [
    "img = cv2.imread(r\"img.jpg\",0)"
   ]
  },
  {
   "cell_type": "markdown",
   "id": "6233b8a2",
   "metadata": {},
   "source": [
    "# Showing Image"
   ]
  },
  {
   "cell_type": "code",
   "execution_count": 201,
   "id": "b67ab9c5",
   "metadata": {},
   "outputs": [],
   "source": [
    "cv2.imshow(\"Hello\",img)\n",
    "cv2.waitKey(0)\n",
    "cv2.destroyAllWindows()"
   ]
  },
  {
   "cell_type": "markdown",
   "id": "3f76f3e8",
   "metadata": {},
   "source": [
    "# Writing image"
   ]
  },
  {
   "cell_type": "code",
   "execution_count": 202,
   "id": "62a4b1f7",
   "metadata": {},
   "outputs": [
    {
     "data": {
      "text/plain": [
       "True"
      ]
     },
     "execution_count": 202,
     "metadata": {},
     "output_type": "execute_result"
    }
   ],
   "source": [
    "cv2.imwrite(\"Greyscale.png\",img)"
   ]
  },
  {
   "cell_type": "markdown",
   "id": "d2fb9ab9",
   "metadata": {},
   "source": [
    "# Reading image in colour"
   ]
  },
  {
   "cell_type": "code",
   "execution_count": 203,
   "id": "fff43228",
   "metadata": {},
   "outputs": [],
   "source": [
    "img = cv2.imread(r\"img.jpg\")"
   ]
  },
  {
   "cell_type": "markdown",
   "id": "aca48811",
   "metadata": {},
   "source": [
    "# Showing Image"
   ]
  },
  {
   "cell_type": "code",
   "execution_count": 204,
   "id": "80ae445c",
   "metadata": {},
   "outputs": [],
   "source": [
    "cv2.imshow(\"Hello\",img)\n",
    "cv2.waitKey(0)\n",
    "cv2.destroyAllWindows()"
   ]
  },
  {
   "cell_type": "markdown",
   "id": "44d44946",
   "metadata": {},
   "source": [
    "# Writing image"
   ]
  },
  {
   "cell_type": "code",
   "execution_count": 205,
   "id": "874a92e3",
   "metadata": {},
   "outputs": [
    {
     "data": {
      "text/plain": [
       "True"
      ]
     },
     "execution_count": 205,
     "metadata": {},
     "output_type": "execute_result"
    }
   ],
   "source": [
    "cv2.imwrite(\"Color.png\",img)"
   ]
  },
  {
   "cell_type": "markdown",
   "id": "2bc0b6d1",
   "metadata": {},
   "source": [
    "# RGB Split"
   ]
  },
  {
   "cell_type": "code",
   "execution_count": 206,
   "id": "f25a0169",
   "metadata": {},
   "outputs": [],
   "source": [
    "B,G,R = cv2.split(img)"
   ]
  },
  {
   "cell_type": "markdown",
   "id": "7fe48196",
   "metadata": {},
   "source": [
    "# Display image in Blue channel"
   ]
  },
  {
   "cell_type": "code",
   "execution_count": 207,
   "id": "f54a8c86",
   "metadata": {},
   "outputs": [],
   "source": [
    "cv2.imshow(\"Blue\",B)\n",
    "cv2.waitKey(0)\n",
    "cv2.destroyAllWindows()"
   ]
  },
  {
   "cell_type": "markdown",
   "id": "74f414ef",
   "metadata": {},
   "source": [
    "# Display image in Green channel"
   ]
  },
  {
   "cell_type": "code",
   "execution_count": 208,
   "id": "9fa99e85",
   "metadata": {},
   "outputs": [],
   "source": [
    "cv2.imshow(\"Green\",G)\n",
    "cv2.waitKey(0)\n",
    "cv2.destroyAllWindows()"
   ]
  },
  {
   "cell_type": "markdown",
   "id": "067ccac3",
   "metadata": {},
   "source": [
    "# Display image in Red channel"
   ]
  },
  {
   "cell_type": "code",
   "execution_count": 209,
   "id": "5595ad43",
   "metadata": {},
   "outputs": [],
   "source": [
    "cv2.imshow(\"Red\",R)\n",
    "cv2.waitKey(0)\n",
    "cv2.destroyAllWindows()"
   ]
  },
  {
   "cell_type": "markdown",
   "id": "155bd82e",
   "metadata": {},
   "source": [
    "# Arithmetic operation on Image"
   ]
  },
  {
   "cell_type": "code",
   "execution_count": 210,
   "id": "019e3bd8",
   "metadata": {},
   "outputs": [],
   "source": [
    "img1 = cv2.imread(\"img102.jpg\")\n",
    "img2 = cv2.imread(\"img103.png\")"
   ]
  },
  {
   "cell_type": "code",
   "execution_count": 211,
   "id": "4a7eefa4",
   "metadata": {},
   "outputs": [],
   "source": [
    "# Addding image\n",
    "add = cv2.addWeighted(img1,0.5,img2,1.5,2)"
   ]
  },
  {
   "cell_type": "code",
   "execution_count": 212,
   "id": "64363219",
   "metadata": {},
   "outputs": [],
   "source": [
    "cv2.imshow(\"Add\",add)\n",
    "cv2.waitKey(0)\n",
    "cv2.destroyAllWindows()"
   ]
  },
  {
   "cell_type": "code",
   "execution_count": 213,
   "id": "8973dd49",
   "metadata": {},
   "outputs": [],
   "source": [
    "# Subtracting image\n",
    "subtract = cv2.subtract(img1,img2)"
   ]
  },
  {
   "cell_type": "code",
   "execution_count": 214,
   "id": "68165313",
   "metadata": {},
   "outputs": [],
   "source": [
    "cv2.imshow(\"Subtract\",subtract)\n",
    "cv2.waitKey(0)\n",
    "cv2.destroyAllWindows()"
   ]
  },
  {
   "cell_type": "markdown",
   "id": "8d7163e4",
   "metadata": {},
   "source": [
    "# Bitwise Operations on image"
   ]
  },
  {
   "cell_type": "code",
   "execution_count": 215,
   "id": "9f2383c2",
   "metadata": {},
   "outputs": [
    {
     "name": "stdout",
     "output_type": "stream",
     "text": [
      "[66 41  0]\n",
      "[15 11 10]\n",
      "[2 9 0]\n"
     ]
    }
   ],
   "source": [
    "#Bitwise AND\n",
    "bitwise_and = cv2.bitwise_and(img1,img2)\n",
    "print(img1[0,0])\n",
    "print(img2[0,0])\n",
    "print(bitwise_and[0,0])"
   ]
  },
  {
   "cell_type": "code",
   "execution_count": 216,
   "id": "3b819dec",
   "metadata": {},
   "outputs": [],
   "source": [
    "cv2.imshow(\"Bitwise ADD\",bitwise_and)\n",
    "cv2.waitKey(0)\n",
    "cv2.destroyAllWindows()"
   ]
  },
  {
   "cell_type": "code",
   "execution_count": 217,
   "id": "d3aa2d0b",
   "metadata": {},
   "outputs": [
    {
     "name": "stdout",
     "output_type": "stream",
     "text": [
      "[66 41  0]\n",
      "[15 11 10]\n",
      "[79 43 10]\n"
     ]
    }
   ],
   "source": [
    "#Bitwise OR\n",
    "bitwise_or = cv2.bitwise_or(img1,img2)\n",
    "print(img1[0,0])\n",
    "print(img2[0,0])\n",
    "print(bitwise_or[0,0])"
   ]
  },
  {
   "cell_type": "code",
   "execution_count": 218,
   "id": "3c44559f",
   "metadata": {},
   "outputs": [],
   "source": [
    "cv2.imshow(\"Bitwise OR\",bitwise_or)\n",
    "cv2.waitKey(0)\n",
    "cv2.destroyAllWindows()"
   ]
  },
  {
   "cell_type": "code",
   "execution_count": 219,
   "id": "c81dfeb0",
   "metadata": {},
   "outputs": [
    {
     "name": "stdout",
     "output_type": "stream",
     "text": [
      "[66 41  0]\n",
      "[15 11 10]\n",
      "[77 34 10]\n"
     ]
    }
   ],
   "source": [
    "#Bitwise XOR\n",
    "bitwise_xor = cv2.bitwise_xor(img1,img2)\n",
    "print(img1[0,0])\n",
    "print(img2[0,0])\n",
    "print(bitwise_xor[0,0])"
   ]
  },
  {
   "cell_type": "code",
   "execution_count": 220,
   "id": "36eb9616",
   "metadata": {},
   "outputs": [],
   "source": [
    "cv2.imshow(\"Bitwise XOR\",bitwise_xor)\n",
    "cv2.waitKey(0)\n",
    "cv2.destroyAllWindows()"
   ]
  },
  {
   "cell_type": "code",
   "execution_count": 221,
   "id": "06726728",
   "metadata": {},
   "outputs": [
    {
     "name": "stdout",
     "output_type": "stream",
     "text": [
      "[66 41  0]\n",
      "[240 244 245]\n"
     ]
    }
   ],
   "source": [
    "#Bitwise NOT\n",
    "bitwise_not = cv2.bitwise_not(img2)\n",
    "print(img1[0,0])\n",
    "print(bitwise_not[0,0])"
   ]
  },
  {
   "cell_type": "code",
   "execution_count": 222,
   "id": "1c9c56fb",
   "metadata": {},
   "outputs": [],
   "source": [
    "cv2.imshow(\"Bitwise NOT\",bitwise_not)\n",
    "cv2.waitKey(0)\n",
    "cv2.destroyAllWindows()"
   ]
  },
  {
   "cell_type": "markdown",
   "id": "270ef80d",
   "metadata": {},
   "source": [
    "# Resizing the image"
   ]
  },
  {
   "cell_type": "code",
   "execution_count": 223,
   "id": "56b607b4",
   "metadata": {},
   "outputs": [],
   "source": [
    "resize_image = cv2.resize(img1,(1366,768))"
   ]
  },
  {
   "cell_type": "code",
   "execution_count": 224,
   "id": "37479f22",
   "metadata": {},
   "outputs": [],
   "source": [
    "cv2.imshow(\"Resize\",resize_image)\n",
    "cv2.waitKey(0)\n",
    "cv2.destroyAllWindows()"
   ]
  },
  {
   "cell_type": "code",
   "execution_count": null,
   "id": "f5f1a8ae",
   "metadata": {},
   "outputs": [],
   "source": []
  }
 ],
 "metadata": {
  "kernelspec": {
   "display_name": "Python 3 (ipykernel)",
   "language": "python",
   "name": "python3"
  },
  "language_info": {
   "codemirror_mode": {
    "name": "ipython",
    "version": 3
   },
   "file_extension": ".py",
   "mimetype": "text/x-python",
   "name": "python",
   "nbconvert_exporter": "python",
   "pygments_lexer": "ipython3",
   "version": "3.10.4"
  }
 },
 "nbformat": 4,
 "nbformat_minor": 5
}
