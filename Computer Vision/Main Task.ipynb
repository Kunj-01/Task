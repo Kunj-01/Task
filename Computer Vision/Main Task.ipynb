{
 "cells": [
  {
   "cell_type": "code",
   "execution_count": 5,
   "id": "1578df9f",
   "metadata": {},
   "outputs": [],
   "source": [
    "from dateparser.search import search_dates"
   ]
  },
  {
   "cell_type": "code",
   "execution_count": 415,
   "id": "69611361",
   "metadata": {},
   "outputs": [],
   "source": [
    "def get_date(date_lst):\n",
    "        all_dates = []\n",
    "        start = \"\"\n",
    "        end = \"\"\n",
    "        start_date = None\n",
    "        end_date = None\n",
    "        start_txt = \"\"\n",
    "        end_txt = \"\"\n",
    "        date_cl = []\n",
    "        for dt in date_lst:\n",
    "#             print(dt, \"date in cli++++++++++++++\")\n",
    "            \n",
    "            start = \"\"\n",
    "            end = \"\"\n",
    "            for sent in split_string_on_multiple_separators(dt, [\"-\", \"–\", \"—\",\"●\"]):\n",
    "                sent = sent.replace(\".\", \"\").lstrip().rstrip()\n",
    "                if len(sent) == 5 and len(sent.split(\"/\")) == 2:\n",
    "                    sent = sent[:3] + \"20\" + sent[3:]\n",
    "                result_ = search_dates(sent)\n",
    "#                 print(\"result \", result_)\n",
    "                if result_ != None and len(result_) > 0:\n",
    "                    for j in result_:\n",
    "                        if start == \"\" and len(j[0]) >= 3:\n",
    "                            start = j[1].strftime(\"%m/%Y\")\n",
    "                            start_date = j[1]\n",
    "                            start_txt = j[0]\n",
    "                        elif end == \"\" and len(j[0]) >= 3:\n",
    "                            end = j[1].strftime(\"%m/%Y\")\n",
    "                            end_date = j[1]\n",
    "                            end_txt = j[0]\n",
    "                    \n",
    "            if (start != \"\" or end != \"\") and [start, end] not in date_cl:\n",
    "                \n",
    "                try:\n",
    "                    if not start_date < end_date:\n",
    "                        start = start.split(\"/\")[0] + \"/\" + end.split(\"/\")[-1]\n",
    "                        start_txt += \" \" + end.split(\"/\")[-1]\n",
    "                        start_date = start_date.replace(year=int(end.split(\"/\")[-1]))\n",
    "                except:\n",
    "                    pass\n",
    "            if start_date != None or str(start_date.year) in start_txt: all_dates.append(start_date)\n",
    "            if end_date != None or str(end_date.year) in end_txt: all_dates.append(end_date)\n",
    "#             print(\"++++++++++++++++++++++++++++\")\n",
    "#         print(\"!!!!!!!!!!!!!!!!!!!!!!!\", all_dates,\"\\n\", start_date,\"\\n\", end_date)\n",
    "        if len(all_dates) > 1:\n",
    "            all_dates_ = sorted(all_dates)\n",
    "#             print(all_dates_)\n",
    "            new_start = all_dates_[0].strftime(\"%m/%Y\")\n",
    "            if len(all_dates_) == 1:\n",
    "                new_end = \"Present\"\n",
    "            else:\n",
    "                new_end = all_dates_[-1].strftime(\"%m/%Y\")\n",
    "            \n",
    "#             print(\"date--)))))))))))))!!!!!!!!!!!!!!!!!!!!!)))))))))!!!!!\")\n",
    "#             print(\"new_start : \", new_start.split(\"/\"))\n",
    "#             print(\"new_end   : \", new_end.split(\"/\"))\n",
    "            new_start_split = new_start.split(\"/\")\n",
    "            new_end_split = new_end.split(\"/\")\n",
    "            new_start = month_name(new_start_split[0]) + \" \"+ new_start_split[1]\n",
    "            new_end = month_name(new_end_split[0])+ \" \"+ new_end_split[1]\n",
    "#             new_start = str()\n",
    "            return [new_start, new_end]\n",
    "        #         clinical_exp['Clinical_experience'] = pre_out['orgs']\n",
    "        else:\n",
    "            if start_date == None:\n",
    "                start_date = \"\"\n",
    "            else:\n",
    "                start_date = month_name(\"0\"+str(start_date.month))+\" \"+ str(start_date.year)\n",
    "            if end_date == None:\n",
    "                end_date = \"\"\n",
    "            else:\n",
    "                end_date = month_name(\"0\"+str(end_date.month))+\" \"+ str(end_date.year)\n",
    "            return [start_date, end_date]"
   ]
  },
  {
   "cell_type": "code",
   "execution_count": 416,
   "id": "7e461ab7",
   "metadata": {},
   "outputs": [],
   "source": [
    "def split_string_on_multiple_separators(input_string, separators):\n",
    "    buffer = [input_string]\n",
    "    for sep in separators:\n",
    "        strings = buffer\n",
    "        buffer = []  # reset the buffer\n",
    "        for s in strings:\n",
    "            buffer = buffer + s.split(sep)\n",
    "    return buffer"
   ]
  },
  {
   "cell_type": "code",
   "execution_count": 417,
   "id": "99a5e694",
   "metadata": {},
   "outputs": [],
   "source": [
    "def month_name(n):\n",
    "    month_name_dict = {\n",
    "        \"01\":\"January\",\n",
    "        \"02\":\"February\",\n",
    "        \"03\":\"March\",\n",
    "        \"04\":\"April\",\n",
    "        \"05\":\"May\",\n",
    "        \"06\":\"June\",\n",
    "        \"07\":\"July\",\n",
    "        \"08\":\"August\",\n",
    "        \"09\":\"September\",\n",
    "        \"10\":\"October\",\n",
    "        \"11\":\"November\",\n",
    "        \"12\":\"December\"\n",
    "    }\n",
    "    return month_name_dict[n]"
   ]
  },
  {
   "cell_type": "code",
   "execution_count": 418,
   "id": "55de7387",
   "metadata": {},
   "outputs": [
    {
     "name": "stdout",
     "output_type": "stream",
     "text": [
      "['April 2019', 'October 2019']\n"
     ]
    }
   ],
   "source": [
    "print(get_date([\"7/25/19-8/28/19\",\"9/25/2019-10/24/2019\",\"4/01/19-5/02/19\"]))"
   ]
  },
  {
   "cell_type": "code",
   "execution_count": 419,
   "id": "46066487",
   "metadata": {},
   "outputs": [
    {
     "data": {
      "text/plain": [
       "['March 2002', 'January 2026']"
      ]
     },
     "execution_count": 419,
     "metadata": {},
     "output_type": "execute_result"
    }
   ],
   "source": [
    "get_date([\"13/12/19-25/8/19\",\"3/18/2002-18/04/2002\",\"Jan/14/19-April/20/2022\",\"22/July/2025-30/January/2026\"])"
   ]
  },
  {
   "cell_type": "code",
   "execution_count": 420,
   "id": "39dbb26e",
   "metadata": {},
   "outputs": [
    {
     "data": {
      "text/plain": [
       "['March 2002', 'February 2021']"
      ]
     },
     "execution_count": 420,
     "metadata": {},
     "output_type": "execute_result"
    }
   ],
   "source": [
    "get_date([\"3/18/2002-18/04/2002\",\"2019/Jan/31-2021/21/Feb\"])"
   ]
  },
  {
   "cell_type": "code",
   "execution_count": 421,
   "id": "5c891ca7",
   "metadata": {},
   "outputs": [
    {
     "data": {
      "text/plain": [
       "['February 2019', 'June 2020']"
      ]
     },
     "execution_count": 421,
     "metadata": {},
     "output_type": "execute_result"
    }
   ],
   "source": [
    "get_date([\"2019/28/Feb-04/Jun/20\",\"6/17/19-7/18/19\",\"9/4/19-10/3/19\"])"
   ]
  },
  {
   "cell_type": "code",
   "execution_count": 422,
   "id": "e23cfcbc",
   "metadata": {},
   "outputs": [
    {
     "data": {
      "text/plain": [
       "['January 2021', 'February 2022']"
      ]
     },
     "execution_count": 422,
     "metadata": {},
     "output_type": "execute_result"
    }
   ],
   "source": [
    "get_date([\"2022/01/Jan-2022/02/24\",\"2021/03/15-2021/14/January\"])"
   ]
  },
  {
   "cell_type": "code",
   "execution_count": 425,
   "id": "640b5099",
   "metadata": {},
   "outputs": [
    {
     "ename": "AttributeError",
     "evalue": "'NoneType' object has no attribute 'year'",
     "output_type": "error",
     "traceback": [
      "\u001b[1;31m---------------------------------------------------------------------------\u001b[0m",
      "\u001b[1;31mAttributeError\u001b[0m                            Traceback (most recent call last)",
      "Input \u001b[1;32mIn [425]\u001b[0m, in \u001b[0;36m<cell line: 1>\u001b[1;34m()\u001b[0m\n\u001b[1;32m----> 1\u001b[0m \u001b[43mget_date\u001b[49m\u001b[43m(\u001b[49m\u001b[43m[\u001b[49m\u001b[38;5;124;43m\"\u001b[39;49m\u001b[38;5;124;43mjan/01/20-2021/feburary/28\u001b[39;49m\u001b[38;5;124;43m\"\u001b[39;49m\u001b[43m,\u001b[49m\u001b[38;5;124;43m\"\u001b[39;49m\u001b[38;5;124;43m2019/january/25-19/21/feb\u001b[39;49m\u001b[38;5;124;43m\"\u001b[39;49m\u001b[43m]\u001b[49m\u001b[43m)\u001b[49m\n",
      "Input \u001b[1;32mIn [415]\u001b[0m, in \u001b[0;36mget_date\u001b[1;34m(date_lst)\u001b[0m\n\u001b[0;32m     40\u001b[0m                     \u001b[38;5;28;01mpass\u001b[39;00m\n\u001b[0;32m     41\u001b[0m             \u001b[38;5;28;01mif\u001b[39;00m start_date \u001b[38;5;241m!=\u001b[39m \u001b[38;5;28;01mNone\u001b[39;00m \u001b[38;5;129;01mor\u001b[39;00m \u001b[38;5;28mstr\u001b[39m(start_date\u001b[38;5;241m.\u001b[39myear) \u001b[38;5;129;01min\u001b[39;00m start_txt: all_dates\u001b[38;5;241m.\u001b[39mappend(start_date)\n\u001b[1;32m---> 42\u001b[0m             \u001b[38;5;28;01mif\u001b[39;00m end_date \u001b[38;5;241m!=\u001b[39m \u001b[38;5;28;01mNone\u001b[39;00m \u001b[38;5;129;01mor\u001b[39;00m \u001b[38;5;28mstr\u001b[39m(\u001b[43mend_date\u001b[49m\u001b[38;5;241;43m.\u001b[39;49m\u001b[43myear\u001b[49m) \u001b[38;5;129;01min\u001b[39;00m end_txt: all_dates\u001b[38;5;241m.\u001b[39mappend(end_date)\n\u001b[0;32m     43\u001b[0m \u001b[38;5;66;03m#             print(\"++++++++++++++++++++++++++++\")\u001b[39;00m\n\u001b[0;32m     44\u001b[0m \u001b[38;5;66;03m#         print(\"!!!!!!!!!!!!!!!!!!!!!!!\", all_dates,\"\\n\", start_date,\"\\n\", end_date)\u001b[39;00m\n\u001b[0;32m     45\u001b[0m         \u001b[38;5;28;01mif\u001b[39;00m \u001b[38;5;28mlen\u001b[39m(all_dates) \u001b[38;5;241m>\u001b[39m \u001b[38;5;241m1\u001b[39m:\n",
      "\u001b[1;31mAttributeError\u001b[0m: 'NoneType' object has no attribute 'year'"
     ]
    }
   ],
   "source": [
    "get_date([\"jan/01/20-2021/feburary/28\",\"2019/january/25-19/21/feb\"])"
   ]
  },
  {
   "cell_type": "code",
   "execution_count": 426,
   "id": "6da17624",
   "metadata": {},
   "outputs": [
    {
     "ename": "AttributeError",
     "evalue": "'NoneType' object has no attribute 'year'",
     "output_type": "error",
     "traceback": [
      "\u001b[1;31m---------------------------------------------------------------------------\u001b[0m",
      "\u001b[1;31mAttributeError\u001b[0m                            Traceback (most recent call last)",
      "Input \u001b[1;32mIn [426]\u001b[0m, in \u001b[0;36m<cell line: 1>\u001b[1;34m()\u001b[0m\n\u001b[1;32m----> 1\u001b[0m \u001b[43mget_date\u001b[49m\u001b[43m(\u001b[49m\u001b[43m[\u001b[49m\u001b[38;5;124;43m\"\u001b[39;49m\u001b[38;5;124;43m24/2/Feb-March/25/3\u001b[39;49m\u001b[38;5;124;43m\"\u001b[39;49m\u001b[43m]\u001b[49m\u001b[43m)\u001b[49m\n",
      "Input \u001b[1;32mIn [415]\u001b[0m, in \u001b[0;36mget_date\u001b[1;34m(date_lst)\u001b[0m\n\u001b[0;32m     40\u001b[0m                     \u001b[38;5;28;01mpass\u001b[39;00m\n\u001b[0;32m     41\u001b[0m             \u001b[38;5;28;01mif\u001b[39;00m start_date \u001b[38;5;241m!=\u001b[39m \u001b[38;5;28;01mNone\u001b[39;00m \u001b[38;5;129;01mor\u001b[39;00m \u001b[38;5;28mstr\u001b[39m(start_date\u001b[38;5;241m.\u001b[39myear) \u001b[38;5;129;01min\u001b[39;00m start_txt: all_dates\u001b[38;5;241m.\u001b[39mappend(start_date)\n\u001b[1;32m---> 42\u001b[0m             \u001b[38;5;28;01mif\u001b[39;00m end_date \u001b[38;5;241m!=\u001b[39m \u001b[38;5;28;01mNone\u001b[39;00m \u001b[38;5;129;01mor\u001b[39;00m \u001b[38;5;28mstr\u001b[39m(\u001b[43mend_date\u001b[49m\u001b[38;5;241;43m.\u001b[39;49m\u001b[43myear\u001b[49m) \u001b[38;5;129;01min\u001b[39;00m end_txt: all_dates\u001b[38;5;241m.\u001b[39mappend(end_date)\n\u001b[0;32m     43\u001b[0m \u001b[38;5;66;03m#             print(\"++++++++++++++++++++++++++++\")\u001b[39;00m\n\u001b[0;32m     44\u001b[0m \u001b[38;5;66;03m#         print(\"!!!!!!!!!!!!!!!!!!!!!!!\", all_dates,\"\\n\", start_date,\"\\n\", end_date)\u001b[39;00m\n\u001b[0;32m     45\u001b[0m         \u001b[38;5;28;01mif\u001b[39;00m \u001b[38;5;28mlen\u001b[39m(all_dates) \u001b[38;5;241m>\u001b[39m \u001b[38;5;241m1\u001b[39m:\n",
      "\u001b[1;31mAttributeError\u001b[0m: 'NoneType' object has no attribute 'year'"
     ]
    }
   ],
   "source": [
    "get_date([\"24/2/Feb-March/25/3\"])"
   ]
  },
  {
   "cell_type": "code",
   "execution_count": null,
   "id": "1bc20fcd",
   "metadata": {},
   "outputs": [],
   "source": []
  }
 ],
 "metadata": {
  "kernelspec": {
   "display_name": "Python 3 (ipykernel)",
   "language": "python",
   "name": "python3"
  },
  "language_info": {
   "codemirror_mode": {
    "name": "ipython",
    "version": 3
   },
   "file_extension": ".py",
   "mimetype": "text/x-python",
   "name": "python",
   "nbconvert_exporter": "python",
   "pygments_lexer": "ipython3",
   "version": "3.10.4"
  }
 },
 "nbformat": 4,
 "nbformat_minor": 5
}
