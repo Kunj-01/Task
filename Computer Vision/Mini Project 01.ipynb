{
 "cells": [
  {
   "cell_type": "code",
   "execution_count": 43,
   "id": "798ba6c5",
   "metadata": {},
   "outputs": [],
   "source": [
    "import cv2\n",
    "import os\n",
    "import time\n",
    "import concurrent.futures\n",
    "import matplotlib.pyplot as plt\n",
    "import psutil"
   ]
  },
  {
   "cell_type": "code",
   "execution_count": 44,
   "id": "d5640887",
   "metadata": {},
   "outputs": [],
   "source": [
    "input_path = \"..//image\"\n",
    "output_path = \"Greyscale\""
   ]
  },
  {
   "cell_type": "code",
   "execution_count": 45,
   "id": "fc5b8af5",
   "metadata": {},
   "outputs": [],
   "source": [
    "name = os.listdir(input_path)"
   ]
  },
  {
   "cell_type": "code",
   "execution_count": 46,
   "id": "6b2eadb6",
   "metadata": {},
   "outputs": [],
   "source": [
    "def reading(list1):\n",
    "    image_list = []\n",
    "    for i in list1:\n",
    "        image_list.append(cv2.imread(input_path+\"/\"+i))\n",
    "    return image_list"
   ]
  },
  {
   "cell_type": "code",
   "execution_count": 47,
   "id": "dcc933c7",
   "metadata": {},
   "outputs": [
    {
     "data": {
      "text/plain": [
       "8"
      ]
     },
     "execution_count": 47,
     "metadata": {},
     "output_type": "execute_result"
    }
   ],
   "source": [
    "threads = psutil.cpu_count() * 2\n",
    "threads"
   ]
  },
  {
   "cell_type": "code",
   "execution_count": 87,
   "id": "d3d9fd22",
   "metadata": {},
   "outputs": [
    {
     "name": "stderr",
     "output_type": "stream",
     "text": [
      "libpng warning: iCCP: known incorrect sRGB profile\n",
      "libpng warning: iCCP: known incorrect sRGB profile\n",
      "libpng warning: iCCP: known incorrect sRGB profile\n",
      "libpng warning: iCCP: known incorrect sRGB profile\n",
      "libpng warning: iCCP: known incorrect sRGB profile\n",
      "libpng warning: iCCP: known incorrect sRGB profile\n",
      "libpng warning: iCCP: known incorrect sRGB profile\n",
      "libpng warning: iCCP: known incorrect sRGB profile\n",
      "libpng warning: iCCP: known incorrect sRGB profile\n",
      "libpng warning: iCCP: known incorrect sRGB profile\n",
      "libpng warning: iCCP: known incorrect sRGB profile\n",
      "libpng warning: iCCP: known incorrect sRGB profile\n",
      "libpng warning: iCCP: known incorrect sRGB profile\n",
      "libpng warning: iCCP: known incorrect sRGB profile\n",
      "libpng warning: iCCP: known incorrect sRGB profile\n",
      "libpng warning: iCCP: known incorrect sRGB profile\n",
      "libpng warning: iCCP: known incorrect sRGB profile\n",
      "libpng warning: iCCP: known incorrect sRGB profile\n",
      "libpng warning: iCCP: known incorrect sRGB profile\n",
      "libpng warning: iCCP: known incorrect sRGB profile\n",
      "libpng warning: iCCP: known incorrect sRGB profile\n",
      "libpng warning: iCCP: known incorrect sRGB profile\n",
      "libpng warning: iCCP: known incorrect sRGB profile\n",
      "libpng warning: iCCP: known incorrect sRGB profile\n",
      "libpng warning: iCCP: known incorrect sRGB profile\n",
      "libpng warning: iCCP: known incorrect sRGB profile\n",
      "libpng warning: iCCP: known incorrect sRGB profile\n",
      "libpng warning: iCCP: known incorrect sRGB profile\n",
      "libpng warning: iCCP: known incorrect sRGB profile\n",
      "libpng warning: iCCP: known incorrect sRGB profile\n",
      "libpng warning: iCCP: known incorrect sRGB profile\n",
      "libpng error: Read Error\n",
      "libpng warning: iCCP: known incorrect sRGB profile\n",
      "libpng warning: iCCP: known incorrect sRGB profile\n",
      "libpng warning: iCCP: known incorrect sRGB profile\n",
      "libpng warning: iCCP: known incorrect sRGB profile\n",
      "libpng warning: iCCP: known incorrect sRGB profile\n",
      "libpng warning: iCCP: known incorrect sRGB profile\n",
      "libpng warning: iCCP: known incorrect sRGB profile\n",
      "libpng warning: iCCP: known incorrect sRGB profile\n",
      "libpng warning: iCCP: known incorrect sRGB profile\n",
      "libpng warning: iCCP: known incorrect sRGB profile\n",
      "libpng warning: iCCP: known incorrect sRGB profile\n",
      "libpng error: Read Error\n",
      "libpng warning: iCCP: known incorrect sRGB profile\n",
      "libpng warning: iCCP: known incorrect sRGB profile\n",
      "libpng warning: iCCP: known incorrect sRGB profile\n",
      "libpng warning: iCCP: known incorrect sRGB profile\n"
     ]
    },
    {
     "name": "stdout",
     "output_type": "stream",
     "text": [
      "341\n",
      "Using thread 9.026979810000284\n"
     ]
    }
   ],
   "source": [
    "start = time.perf_counter()\n",
    "with concurrent.futures.ThreadPoolExecutor(max_workers=threads) as executor:\n",
    "    value = executor.submit(reading, name)\n",
    "    image_thread = value.result()\n",
    "    print(len(image_thread))\n",
    "    \n",
    "print(\"Using thread\",time.perf_counter()-start)"
   ]
  },
  {
   "cell_type": "code",
   "execution_count": 88,
   "id": "1ed719da",
   "metadata": {},
   "outputs": [
    {
     "name": "stderr",
     "output_type": "stream",
     "text": [
      "libpng warning: iCCP: known incorrect sRGB profile\n",
      "libpng warning: iCCP: known incorrect sRGB profile\n",
      "libpng warning: iCCP: known incorrect sRGB profile\n",
      "libpng warning: iCCP: known incorrect sRGB profile\n",
      "libpng warning: iCCP: known incorrect sRGB profile\n",
      "libpng warning: iCCP: known incorrect sRGB profile\n",
      "libpng warning: iCCP: known incorrect sRGB profile\n",
      "libpng warning: iCCP: known incorrect sRGB profile\n",
      "libpng warning: iCCP: known incorrect sRGB profile\n",
      "libpng warning: iCCP: known incorrect sRGB profile\n",
      "libpng warning: iCCP: known incorrect sRGB profile\n",
      "libpng warning: iCCP: known incorrect sRGB profile\n",
      "libpng warning: iCCP: known incorrect sRGB profile\n",
      "libpng warning: iCCP: known incorrect sRGB profile\n",
      "libpng warning: iCCP: known incorrect sRGB profile\n",
      "libpng warning: iCCP: known incorrect sRGB profile\n",
      "libpng warning: iCCP: known incorrect sRGB profile\n",
      "libpng warning: iCCP: known incorrect sRGB profile\n",
      "libpng warning: iCCP: known incorrect sRGB profile\n",
      "libpng warning: iCCP: known incorrect sRGB profile\n",
      "libpng warning: iCCP: known incorrect sRGB profile\n",
      "libpng warning: iCCP: known incorrect sRGB profile\n",
      "libpng warning: iCCP: known incorrect sRGB profile\n",
      "libpng warning: iCCP: known incorrect sRGB profile\n",
      "libpng warning: iCCP: known incorrect sRGB profile\n",
      "libpng warning: iCCP: known incorrect sRGB profile\n",
      "libpng warning: iCCP: known incorrect sRGB profile\n",
      "libpng warning: iCCP: known incorrect sRGB profile\n",
      "libpng warning: iCCP: known incorrect sRGB profile\n",
      "libpng warning: iCCP: known incorrect sRGB profile\n",
      "libpng warning: iCCP: known incorrect sRGB profile\n",
      "libpng error: Read Error\n",
      "libpng warning: iCCP: known incorrect sRGB profile\n",
      "libpng warning: iCCP: known incorrect sRGB profile\n",
      "libpng warning: iCCP: known incorrect sRGB profile\n",
      "libpng warning: iCCP: known incorrect sRGB profile\n",
      "libpng warning: iCCP: known incorrect sRGB profile\n",
      "libpng warning: iCCP: known incorrect sRGB profile\n",
      "libpng warning: iCCP: known incorrect sRGB profile\n",
      "libpng warning: iCCP: known incorrect sRGB profile\n",
      "libpng warning: iCCP: known incorrect sRGB profile\n",
      "libpng warning: iCCP: known incorrect sRGB profile\n",
      "libpng warning: iCCP: known incorrect sRGB profile\n",
      "libpng error: Read Error\n",
      "libpng warning: iCCP: known incorrect sRGB profile\n",
      "libpng warning: iCCP: known incorrect sRGB profile\n",
      "libpng warning: iCCP: known incorrect sRGB profile\n",
      "libpng warning: iCCP: known incorrect sRGB profile\n"
     ]
    },
    {
     "name": "stdout",
     "output_type": "stream",
     "text": [
      "Directly 8.079934357000184\n"
     ]
    }
   ],
   "source": [
    "start = time.perf_counter()\n",
    "image_direct = reading(name)\n",
    "\n",
    "print(\"Directly\",time.perf_counter()-start)"
   ]
  },
  {
   "cell_type": "code",
   "execution_count": 50,
   "id": "5240f515",
   "metadata": {},
   "outputs": [],
   "source": [
    "# plt.imshow(image_direct[1])"
   ]
  },
  {
   "cell_type": "code",
   "execution_count": 51,
   "id": "12a50269",
   "metadata": {},
   "outputs": [],
   "source": [
    "def convert(list1):\n",
    "    grey_scale = []\n",
    "    for i in list1:\n",
    "        if str(type(i)) == \"<class 'numpy.ndarray'>\":\n",
    "            grey_scale.append(cv2.cvtColor(i,cv2.COLOR_BGR2GRAY))\n",
    "    return grey_scale"
   ]
  },
  {
   "cell_type": "code",
   "execution_count": 52,
   "id": "63346f83",
   "metadata": {},
   "outputs": [
    {
     "name": "stdout",
     "output_type": "stream",
     "text": [
      "Using thread 0.12122381100016355\n"
     ]
    }
   ],
   "source": [
    "start = time.perf_counter()\n",
    "with concurrent.futures.ThreadPoolExecutor(max_workers=threads) as executor:\n",
    "    future = executor.submit(convert, image_thread)\n",
    "    grey_thread = future.result()\n",
    "\n",
    "print(\"Using thread\",time.perf_counter()-start)"
   ]
  },
  {
   "cell_type": "code",
   "execution_count": 53,
   "id": "ff6d7b10",
   "metadata": {},
   "outputs": [
    {
     "name": "stdout",
     "output_type": "stream",
     "text": [
      "Directly 0.11935080400007791\n"
     ]
    }
   ],
   "source": [
    "start = time.perf_counter()\n",
    "grey_direct = convert(image_direct)\n",
    "\n",
    "print(\"Directly\",time.perf_counter()-start)"
   ]
  },
  {
   "cell_type": "code",
   "execution_count": 54,
   "id": "86f59775",
   "metadata": {},
   "outputs": [],
   "source": [
    "def writing(list1):\n",
    "    for i,j in zip(name,list1):\n",
    "        cv2.imwrite(output_path+\"/\"+i,j)"
   ]
  },
  {
   "cell_type": "code",
   "execution_count": 55,
   "id": "ba4c31b4",
   "metadata": {},
   "outputs": [
    {
     "name": "stdout",
     "output_type": "stream",
     "text": [
      "Using thread 3.1836403499996777\n"
     ]
    }
   ],
   "source": [
    "start = time.perf_counter()\n",
    "with concurrent.futures.ThreadPoolExecutor(max_workers=threads) as executor:\n",
    "    future = executor.submit(writing, grey_thread)\n",
    "    return_value = future.result()\n",
    "\n",
    "print(\"Using thread\",time.perf_counter()-start)"
   ]
  },
  {
   "cell_type": "code",
   "execution_count": 56,
   "id": "f00344d1",
   "metadata": {},
   "outputs": [
    {
     "name": "stdout",
     "output_type": "stream",
     "text": [
      "Directly 3.227348638999956\n"
     ]
    }
   ],
   "source": [
    "start = time.perf_counter()\n",
    "writing(grey_direct)\n",
    "\n",
    "print(\"Directly\",time.perf_counter()-start)"
   ]
  },
  {
   "cell_type": "code",
   "execution_count": 61,
   "id": "601e5535",
   "metadata": {},
   "outputs": [
    {
     "name": "stdout",
     "output_type": "stream",
     "text": [
      "/home/meet/Desktop/shared jupyter/Kunj\r\n"
     ]
    }
   ],
   "source": [
    "!pwd"
   ]
  },
  {
   "cell_type": "code",
   "execution_count": 86,
   "id": "39f8877a",
   "metadata": {},
   "outputs": [
    {
     "name": "stdout",
     "output_type": "stream",
     "text": [
      "0 42\n",
      "42 85\n",
      "85 127\n",
      "127 170\n",
      "170 213\n",
      "213 255\n",
      "255 298\n",
      "298 341\n"
     ]
    },
    {
     "name": "stderr",
     "output_type": "stream",
     "text": [
      "libpng warning: iCCP: known incorrect sRGB profile\n",
      "libpng warning: iCCP: known incorrect sRGB profile\n",
      "libpng warning: iCCP: known incorrect sRGB profile\n",
      "libpng warning: iCCP: known incorrect sRGB profile\n",
      "libpng warning: iCCP: known incorrect sRGB profile\n",
      "libpng warning: iCCP: known incorrect sRGB profile\n",
      "libpng warning: iCCP: known incorrect sRGB profile\n",
      "libpng warning: iCCP: known incorrect sRGB profile\n",
      "libpng warning: iCCP: known incorrect sRGB profile\n",
      "libpng warning: iCCP: known incorrect sRGB profile\n",
      "libpng error: Read Error\n",
      "libpng warning: iCCP: known incorrect sRGB profile\n",
      "libpng warning: iCCP: known incorrect sRGB profile\n",
      "libpng warning: iCCP: known incorrect sRGB profile\n",
      "libpng warning: iCCP: known incorrect sRGB profile\n",
      "libpng warning: iCCP: known incorrect sRGB profile\n",
      "libpng warning: iCCP: known incorrect sRGB profile\n",
      "libpng warning: iCCP: known incorrect sRGB profile\n",
      "libpng warning: iCCP: known incorrect sRGB profile\n",
      "libpng warning: iCCP: known incorrect sRGB profile\n",
      "libpng warning: iCCP: known incorrect sRGB profile\n",
      "libpng warning: iCCP: known incorrect sRGB profile\n",
      "libpng warning: iCCP: known incorrect sRGB profile\n",
      "libpng warning: iCCP: known incorrect sRGB profile\n",
      "libpng warning: iCCP: known incorrect sRGB profile\n",
      "libpng warning: iCCP: known incorrect sRGB profile\n",
      "libpng warning: iCCP: known incorrect sRGB profile\n",
      "libpng warning: iCCP: known incorrect sRGB profile\n",
      "libpng warning: iCCP: known incorrect sRGB profile\n",
      "libpng warning: iCCP: known incorrect sRGB profile\n",
      "libpng warning: iCCP: known incorrect sRGB profile\n",
      "libpng warning: iCCP: known incorrect sRGB profile\n",
      "libpng warning: iCCP: known incorrect sRGB profile\n",
      "libpng warning: iCCP: known incorrect sRGB profile\n",
      "libpng warning: iCCP: known incorrect sRGB profile\n",
      "libpng error: Read Error\n",
      "libpng warning: iCCP: known incorrect sRGB profile\n",
      "libpng warning: iCCP: known incorrect sRGB profile\n",
      "libpng warning: iCCP: known incorrect sRGB profile\n",
      "libpng warning: iCCP: known incorrect sRGB profile\n",
      "libpng warning: iCCP: known incorrect sRGB profile\n",
      "libpng warning: iCCP: known incorrect sRGB profile\n",
      "libpng warning: iCCP: known incorrect sRGB profile\n",
      "libpng warning: iCCP: known incorrect sRGB profile\n",
      "libpng warning: iCCP: known incorrect sRGB profile\n",
      "libpng warning: iCCP: known incorrect sRGB profile\n",
      "libpng warning: iCCP: known incorrect sRGB profile\n"
     ]
    },
    {
     "name": "stdout",
     "output_type": "stream",
     "text": [
      "Using thread 3.4987309489997642\n"
     ]
    },
    {
     "name": "stderr",
     "output_type": "stream",
     "text": [
      "libpng warning: iCCP: known incorrect sRGB profile\n"
     ]
    }
   ],
   "source": [
    "image_list = []\n",
    "def print_he(name):\n",
    "    for i in name:\n",
    "        image_list.append(cv2.imread(input_path+\"/\"+i))\n",
    "l1 = []\n",
    "\n",
    "n = psutil.cpu_count() * 2\n",
    "length = len(name) / n\n",
    "start1 = time.perf_counter()\n",
    "for i in range(n):\n",
    "    start = int(i * length)\n",
    "    end = int((i+1) * length)\n",
    "    print(start , end)\n",
    "    t1 = threading.Thread(target=print_he,args=[name[start:end]])\n",
    "    t1.start()\n",
    "    l1.append(t1)\n",
    "for i in l1:\n",
    "    i.join()\n",
    "\n",
    "print(\"Using thread\",time.perf_counter()-start1)"
   ]
  },
  {
   "cell_type": "code",
   "execution_count": 89,
   "id": "e71155c8",
   "metadata": {},
   "outputs": [
    {
     "name": "stdout",
     "output_type": "stream",
     "text": [
      "0 42\n",
      "42 85\n",
      "85 127\n",
      "127 170\n",
      "170 213\n",
      "213 255\n",
      "255 298\n",
      "298 341\n",
      "Using thread 0.29348589300025196\n"
     ]
    }
   ],
   "source": [
    "grey_scale = []\n",
    "def convert1(list1):\n",
    "    for i in list1:\n",
    "        if str(type(i)) == \"<class 'numpy.ndarray'>\":\n",
    "            grey_scale.append(cv2.cvtColor(i,cv2.COLOR_BGR2GRAY))\n",
    "\n",
    "\n",
    "n = psutil.cpu_count() * 2\n",
    "length = len(name) / n\n",
    "start1 = time.perf_counter()\n",
    "for i in range(n):\n",
    "    start = int(i * length)\n",
    "    end = int((i+1) * length)\n",
    "    print(start , end)\n",
    "    t1 = threading.Thread(target=convert1,args=[image_list[start:end]])\n",
    "    t1.start()\n",
    "    l1.append(t1)\n",
    "for i in l1:\n",
    "    i.join()\n",
    "\n",
    "print(\"Using thread\",time.perf_counter()-start1)"
   ]
  },
  {
   "cell_type": "code",
   "execution_count": 92,
   "id": "bcca19df",
   "metadata": {},
   "outputs": [
    {
     "name": "stdout",
     "output_type": "stream",
     "text": [
      "0 42\n",
      "42 85\n",
      "85 127\n",
      "127 170\n",
      "170 213\n",
      "213 255\n",
      "255 298\n",
      "298 341\n",
      "Using thread 1.4800539779998871\n"
     ]
    }
   ],
   "source": [
    "def writing1(name1,list1):\n",
    "    for i,j in zip(name1,list1):\n",
    "        cv2.imwrite(output_path+\"/\"+i,j)\n",
    "\n",
    "n = psutil.cpu_count() * 2\n",
    "length = len(name) / n\n",
    "start1 = time.perf_counter()\n",
    "for i in range(n):\n",
    "    start = int(i * length)\n",
    "    end = int((i+1) * length)\n",
    "    print(start , end)\n",
    "    t1 = threading.Thread(target=writing1,args=[name[start:end],grey_scale[start:end]])\n",
    "    t1.start()\n",
    "    l1.append(t1)\n",
    "for i in l1:\n",
    "    i.join()\n",
    "\n",
    "print(\"Using thread\",time.perf_counter()-start1)"
   ]
  },
  {
   "cell_type": "code",
   "execution_count": null,
   "id": "fae64af1",
   "metadata": {},
   "outputs": [],
   "source": []
  }
 ],
 "metadata": {
  "kernelspec": {
   "display_name": "Python 3 (ipykernel)",
   "language": "python",
   "name": "python3"
  },
  "language_info": {
   "codemirror_mode": {
    "name": "ipython",
    "version": 3
   },
   "file_extension": ".py",
   "mimetype": "text/x-python",
   "name": "python",
   "nbconvert_exporter": "python",
   "pygments_lexer": "ipython3",
   "version": "3.9.7"
  }
 },
 "nbformat": 4,
 "nbformat_minor": 5
}
