{
 "cells": [
  {
   "cell_type": "code",
   "execution_count": 13,
   "id": "798ba6c5",
   "metadata": {},
   "outputs": [],
   "source": [
    "import cv2\n",
    "import os\n",
    "import time\n",
    "import concurrent.futures\n",
    "import psutil"
   ]
  },
  {
   "cell_type": "code",
   "execution_count": 14,
   "id": "d5640887",
   "metadata": {},
   "outputs": [],
   "source": [
    "input_path = \"image\"\n",
    "output_path = \"Greyscale\""
   ]
  },
  {
   "cell_type": "code",
   "execution_count": 15,
   "id": "fc5b8af5",
   "metadata": {},
   "outputs": [
    {
     "data": {
      "text/plain": [
       "682"
      ]
     },
     "execution_count": 15,
     "metadata": {},
     "output_type": "execute_result"
    }
   ],
   "source": [
    "name = os.listdir(input_path)\n",
    "len(name)"
   ]
  },
  {
   "cell_type": "code",
   "execution_count": 16,
   "id": "6b2eadb6",
   "metadata": {},
   "outputs": [],
   "source": [
    "def reading(list1):\n",
    "    image_list = []\n",
    "    for i in list1:\n",
    "        image_list.append(cv2.imread(input_path+\"/\"+i))\n",
    "    return image_list"
   ]
  },
  {
   "cell_type": "code",
   "execution_count": 17,
   "id": "dcc933c7",
   "metadata": {},
   "outputs": [],
   "source": [
    "threads = psutil.cpu_count() * 2"
   ]
  },
  {
   "cell_type": "code",
   "execution_count": 18,
   "id": "d3d9fd22",
   "metadata": {},
   "outputs": [
    {
     "name": "stdout",
     "output_type": "stream",
     "text": [
      "682\n",
      "Using thread 67.58396900000025\n"
     ]
    }
   ],
   "source": [
    "start = time.perf_counter()\n",
    "with concurrent.futures.ThreadPoolExecutor(max_workers=threads) as executor:\n",
    "    value = executor.submit(reading, name)\n",
    "    image_thread = value.result()\n",
    "    print(len(image_thread))\n",
    "    \n",
    "print(\"Using thread\",time.perf_counter()-start)"
   ]
  },
  {
   "cell_type": "code",
   "execution_count": 19,
   "id": "1ed719da",
   "metadata": {},
   "outputs": [
    {
     "name": "stdout",
     "output_type": "stream",
     "text": [
      "Directly 89.38865399999986\n"
     ]
    }
   ],
   "source": [
    "start = time.perf_counter()\n",
    "image_direct = reading(name)\n",
    "\n",
    "print(\"Directly\",time.perf_counter()-start)"
   ]
  },
  {
   "cell_type": "code",
   "execution_count": 20,
   "id": "5240f515",
   "metadata": {},
   "outputs": [],
   "source": [
    "# cv2.imwrite(r\"Greyscale\\1.png\",image_direct[0])"
   ]
  },
  {
   "cell_type": "code",
   "execution_count": 21,
   "id": "12a50269",
   "metadata": {},
   "outputs": [],
   "source": [
    "def convert(list1):\n",
    "    grey_scale = []\n",
    "    for i in list1:\n",
    "        if str(type(i)) == \"<class 'numpy.ndarray'>\":\n",
    "            grey_scale.append(cv2.cvtColor(i,cv2.COLOR_BGR2GRAY))\n",
    "    return grey_scale"
   ]
  },
  {
   "cell_type": "code",
   "execution_count": 22,
   "id": "63346f83",
   "metadata": {},
   "outputs": [
    {
     "name": "stdout",
     "output_type": "stream",
     "text": [
      "Using thread 93.78175199999987\n"
     ]
    }
   ],
   "source": [
    "start = time.perf_counter()\n",
    "with concurrent.futures.ThreadPoolExecutor(max_workers=threads) as executor:\n",
    "    future = executor.submit(convert, image_thread)\n",
    "    grey_thread = future.result()\n",
    "\n",
    "print(\"Using thread\",time.perf_counter()-start)"
   ]
  },
  {
   "cell_type": "code",
   "execution_count": 23,
   "id": "ff6d7b10",
   "metadata": {},
   "outputs": [
    {
     "name": "stdout",
     "output_type": "stream",
     "text": [
      "Directly 103.15483270000004\n"
     ]
    }
   ],
   "source": [
    "start = time.perf_counter()\n",
    "grey_direct = convert(image_direct)\n",
    "\n",
    "print(\"Directly\",time.perf_counter()-start)"
   ]
  },
  {
   "cell_type": "code",
   "execution_count": 24,
   "id": "86f59775",
   "metadata": {},
   "outputs": [],
   "source": [
    "def writing(list1):\n",
    "    for i,j in zip(name,list1):\n",
    "        cv2.imwrite(output_path+\"/\"+i,j)"
   ]
  },
  {
   "cell_type": "code",
   "execution_count": 31,
   "id": "ba4c31b4",
   "metadata": {},
   "outputs": [
    {
     "name": "stdout",
     "output_type": "stream",
     "text": [
      "Using thread 13.888490100000126\n"
     ]
    }
   ],
   "source": [
    "start = time.perf_counter()\n",
    "with concurrent.futures.ThreadPoolExecutor(max_workers=threads) as executor:\n",
    "    future = executor.submit(writing, grey_thread)\n",
    "    return_value = future.result()\n",
    "\n",
    "print(\"Using thread\",time.perf_counter()-start)"
   ]
  },
  {
   "cell_type": "code",
   "execution_count": 32,
   "id": "f00344d1",
   "metadata": {},
   "outputs": [
    {
     "name": "stdout",
     "output_type": "stream",
     "text": [
      "Directly 17.67843730000004\n"
     ]
    }
   ],
   "source": [
    "start = time.perf_counter()\n",
    "writing(grey_direct)\n",
    "\n",
    "print(\"Directly\",time.perf_counter()-start)"
   ]
  },
  {
   "cell_type": "code",
   "execution_count": null,
   "id": "601e5535",
   "metadata": {},
   "outputs": [],
   "source": []
  }
 ],
 "metadata": {
  "kernelspec": {
   "display_name": "Python 3 (ipykernel)",
   "language": "python",
   "name": "python3"
  },
  "language_info": {
   "codemirror_mode": {
    "name": "ipython",
    "version": 3
   },
   "file_extension": ".py",
   "mimetype": "text/x-python",
   "name": "python",
   "nbconvert_exporter": "python",
   "pygments_lexer": "ipython3",
   "version": "3.10.4"
  }
 },
 "nbformat": 4,
 "nbformat_minor": 5
}
